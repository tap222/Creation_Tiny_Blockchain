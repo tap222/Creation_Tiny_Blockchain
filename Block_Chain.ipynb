{
 "cells": [
  {
   "cell_type": "code",
   "execution_count": 1,
   "metadata": {
    "collapsed": true
   },
   "outputs": [],
   "source": [
    "from datetime import datetime\n",
    "import hashlib as hasher"
   ]
  },
  {
   "cell_type": "code",
   "execution_count": 2,
   "metadata": {},
   "outputs": [],
   "source": [
    "class Block:\n",
    "    def __init__(self, index, timestamp, data, previous_hash):\n",
    "        self.index = index\n",
    "        self.timestamp = timestamp\n",
    "        self.data = data\n",
    "        self.previous_hash = previous_hash\n",
    "        self.hash = self.hash_block()\n",
    "\n",
    "    def __str__(self):\n",
    "        return 'Block #{}'.format(self.index)\n",
    "\n",
    "    def hash_block(self):\n",
    "        sha = hasher.sha256()\n",
    "        seq = (str(x) for x in (\n",
    "               self.index, self.timestamp, self.data, self.previous_hash))\n",
    "        sha.update(''.join(seq).encode('utf-8'))\n",
    "        return sha.hexdigest()"
   ]
  },
  {
   "cell_type": "code",
   "execution_count": 3,
   "metadata": {
    "collapsed": true
   },
   "outputs": [],
   "source": [
    "def make_genesis_block():\n",
    "    \"\"\"Make the first block in a block-chain.\"\"\"\n",
    "    block = Block(index=0,\n",
    "                  timestamp=datetime.now(),\n",
    "                  data=\"Genesis Block\",\n",
    "                  previous_hash=\"0\")\n",
    "    return block"
   ]
  },
  {
   "cell_type": "code",
   "execution_count": 6,
   "metadata": {
    "collapsed": true
   },
   "outputs": [],
   "source": [
    "def next_block(last_block, data=''):\n",
    "    \"\"\"Return next block in a block chain.\"\"\"\n",
    "    idx = last_block.index + 1\n",
    "    block = Block(index=idx,\n",
    "                  timestamp=datetime.now(),\n",
    "                  data='{}{}'.format(data, idx),\n",
    "                  previous_hash=last_block.hash)\n",
    "    return block"
   ]
  },
  {
   "cell_type": "code",
   "execution_count": 7,
   "metadata": {
    "collapsed": true
   },
   "outputs": [],
   "source": [
    "def test_code():\n",
    "    \"\"\"Test creating chain of 20 blocks.\"\"\"\n",
    "    blockchain = [make_genesis_block()]\n",
    "    prev_block = blockchain[0]\n",
    "    for _ in range(0, 20):\n",
    "        block = next_block(prev_block, data='some data here')\n",
    "        blockchain.append(block)\n",
    "        prev_block = block\n",
    "        print('{} added to blockchain'.format(block))\n",
    "        print('Hash: {}\\n'.format(block.hash))"
   ]
  },
  {
   "cell_type": "code",
   "execution_count": 8,
   "metadata": {},
   "outputs": [
    {
     "name": "stdout",
     "output_type": "stream",
     "text": [
      "Block #1 added to blockchain\n",
      "Hash: 388c88b0fd68ac6fcb16a54b518c1d336cca60d347dc1ae263e251cd36bdb92f\n",
      "\n",
      "Block #2 added to blockchain\n",
      "Hash: 4f54cdc96c85b113fc065457ec808ce5e8d4fe1f7abd42c58c1c74fa44404548\n",
      "\n",
      "Block #3 added to blockchain\n",
      "Hash: 384b42cbb953d229d317d38f1631c8131841942d431e0028c12d808be7b83ec2\n",
      "\n",
      "Block #4 added to blockchain\n",
      "Hash: 17b2ac8bd17788c9741fe73399b2b47425c6865d7e11c7cef9ae22b5913bd87a\n",
      "\n",
      "Block #5 added to blockchain\n",
      "Hash: 64ae1ff16d74186e7b26f9cb133df4139fbb5f1e4727747cec0832928b050653\n",
      "\n",
      "Block #6 added to blockchain\n",
      "Hash: 43dedb5f2a85176e76922501fb9ffae88984efc33bb002c6c764a4d655f8c122\n",
      "\n",
      "Block #7 added to blockchain\n",
      "Hash: 7bcf0cd3dbca0d072ab6b4b58d2025e268b2f88e18f5b11a312bb892e4464e67\n",
      "\n",
      "Block #8 added to blockchain\n",
      "Hash: c7a0cbb414f175df4a23e32fb3fc4b90947c4d5d6eb4269e50a4b7afd7f08087\n",
      "\n",
      "Block #9 added to blockchain\n",
      "Hash: 43ffa6940568d41b33c31fdea9e1e2a0b13325ac4eed103d7ecf2ae88608a9de\n",
      "\n",
      "Block #10 added to blockchain\n",
      "Hash: 1d370f31b437234798539924aee3cc599f230b97be5d549ad75bf6ba087691e5\n",
      "\n",
      "Block #11 added to blockchain\n",
      "Hash: 9409125c67537c068f9831b05c91873108c002448fc9e7693acf328beb0d4462\n",
      "\n",
      "Block #12 added to blockchain\n",
      "Hash: b4c5ee70f92f7ba0831169fe3a7746b88bff7b9623ce280106501c924c5c7f66\n",
      "\n",
      "Block #13 added to blockchain\n",
      "Hash: 44e97a4ad2f58c6d578bf38bd43557f83c1926c7d53e01c5a5e94fa7c91bf661\n",
      "\n",
      "Block #14 added to blockchain\n",
      "Hash: 8d28a7f4d67247d2f83c57c3ce522095656a36f1fdcc69219ee50f79badb1da0\n",
      "\n",
      "Block #15 added to blockchain\n",
      "Hash: 6e399236f595903f4b69164563a5952c90ee30eadff8a95213bcdc5d467c57bf\n",
      "\n",
      "Block #16 added to blockchain\n",
      "Hash: 954f051eedcc44c1f2dcb16b40671e3d67350c4b232dc8fefce57ad38dc12522\n",
      "\n",
      "Block #17 added to blockchain\n",
      "Hash: e6b42ef50e190f575303e97bd34621b527ea0b98a35268162d12d1b4389a3c10\n",
      "\n",
      "Block #18 added to blockchain\n",
      "Hash: b74d231fe9271d77ce7de6686163475e0f0ebc5cbc9505b5ed31f4aa4aef8692\n",
      "\n",
      "Block #19 added to blockchain\n",
      "Hash: 268b0a373db4f39059bfeb34501a4df4d0c8d1af2cd6b3d5da8eeb82952c1722\n",
      "\n",
      "Block #20 added to blockchain\n",
      "Hash: cddc728316920c21a339678d34983ef66bd06061165a9093ce6c589897c2b13a\n",
      "\n"
     ]
    }
   ],
   "source": [
    "# run the test code\n",
    "test_code()"
   ]
  }
 ],
 "metadata": {
  "kernelspec": {
   "display_name": "Python 3",
   "language": "python",
   "name": "python3"
  },
  "language_info": {
   "codemirror_mode": {
    "name": "ipython",
    "version": 3
   },
   "file_extension": ".py",
   "mimetype": "text/x-python",
   "name": "python",
   "nbconvert_exporter": "python",
   "pygments_lexer": "ipython3",
   "version": "3.6.2"
  }
 },
 "nbformat": 4,
 "nbformat_minor": 2
}
